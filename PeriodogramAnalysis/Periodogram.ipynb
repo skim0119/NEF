{
 "cells": [
  {
   "cell_type": "markdown",
   "id": "135707f6-4a9f-471e-b5ca-ef8a41fdd4b7",
   "metadata": {},
   "source": [
    "# Periodogram Analysis Workflow"
   ]
  },
  {
   "cell_type": "markdown",
   "id": "ff2352ff-debc-4823-8c2d-d8515dcf016e",
   "metadata": {},
   "source": [
    "In this tutorial, we will learn how to implement Periodogram Analysis, power density analysis and spectrum analysis."
   ]
  },
  {
   "cell_type": "markdown",
   "id": "7944941a-6480-418a-b57d-149cbb062d97",
   "metadata": {},
   "source": [
    "---"
   ]
  },
  {
   "cell_type": "code",
   "execution_count": 1,
   "id": "f62760c3-2b85-4ff9-a434-7be7b3a18406",
   "metadata": {},
   "outputs": [
    {
     "ename": "ModuleNotFoundError",
     "evalue": "No module named 'miv'",
     "output_type": "error",
     "traceback": [
      "\u001b[0;31m---------------------------------------------------------------------------\u001b[0m",
      "\u001b[0;31mModuleNotFoundError\u001b[0m                       Traceback (most recent call last)",
      "Cell \u001b[0;32mIn[1], line 1\u001b[0m\n\u001b[0;32m----> 1\u001b[0m \u001b[38;5;28;01mfrom\u001b[39;00m \u001b[38;5;21;01mmiv\u001b[39;00m\u001b[38;5;21;01m.\u001b[39;00m\u001b[38;5;21;01mio\u001b[39;00m\u001b[38;5;21;01m.\u001b[39;00m\u001b[38;5;21;01mopenephys\u001b[39;00m \u001b[38;5;28;01mimport\u001b[39;00m DataManager\n\u001b[1;32m      2\u001b[0m \u001b[38;5;28;01mfrom\u001b[39;00m \u001b[38;5;21;01mmiv\u001b[39;00m\u001b[38;5;21;01m.\u001b[39;00m\u001b[38;5;21;01mcore\u001b[39;00m\u001b[38;5;21;01m.\u001b[39;00m\u001b[38;5;21;01mpipeline\u001b[39;00m \u001b[38;5;28;01mimport\u001b[39;00m Pipeline\n\u001b[1;32m      3\u001b[0m \u001b[38;5;28;01mfrom\u001b[39;00m \u001b[38;5;21;01mspectrum_analysis\u001b[39;00m \u001b[38;5;28;01mimport\u001b[39;00m PowerSpectrumAnalysis\n",
      "\u001b[0;31mModuleNotFoundError\u001b[0m: No module named 'miv'"
     ]
    }
   ],
   "source": [
    "from miv.io.openephys import DataManager\n",
    "from miv.core.pipeline import Pipeline\n",
    "from spectrum_analysis import PowerSpectrumAnalysis\n",
    "from spectrogram_analysis import SpectrogramAnalysis\n",
    "from miv.core.operator import DataLoader\n",
    "from miv.core.operator import Operator\n",
    "from miv.datasets.openephys_sample import load_data\n",
    "from power_density_statistics import (\n",
    "    SpectrumAnalysisPeriodogram,\n",
    "    SpectrumAnalysisWelch,\n",
    ")"
   ]
  },
  {
   "cell_type": "markdown",
   "id": "9544902e-9b93-4253-ba9f-f21f22481b6e",
   "metadata": {},
   "source": [
    "## Loading Dataset"
   ]
  },
  {
   "cell_type": "code",
   "execution_count": null,
   "id": "aedc35fc-840a-4bae-a26a-0551de3abe7a",
   "metadata": {},
   "outputs": [],
   "source": [
    "# Download the sample data\n",
    "path: str = load_data(progbar_disable=True).data_collection_path\n",
    "print(path)\n",
    "\n",
    "working_directory = \"results\"\n",
    "\n",
    "dataset: DataManager = DataManager(data_collection_path=path)\n",
    "data = dataset[0]"
   ]
  },
  {
   "cell_type": "markdown",
   "id": "5a4fb07e-4d5b-40ba-9739-71c211481d0e",
   "metadata": {},
   "source": [
    "## Set Up Analysis Modules"
   ]
  },
  {
   "cell_type": "markdown",
   "id": "201a431e-f150-42ed-aa8b-e3c6fec07829",
   "metadata": {},
   "source": [
    "Here we set up two different spectrum analysis modules: `spectrum_welch` and `spectrum_per` for power density computing, which perform Welch's method and periodogram method respectively. Also, we set up `Periodogram_Analysis` to compute and plot spectrogram. Additionally, we introduce `Spec_Analysis` to compute and plot spectrum."
   ]
  },
  {
   "cell_type": "code",
   "execution_count": null,
   "id": "a3eeaa4e-92c6-4784-80d8-c9524edddb2f",
   "metadata": {},
   "outputs": [],
   "source": [
    "spectrum_welch = SpectrumAnalysisWelch()\n",
    "spectrum_per = SpectrumAnalysisPeriodogram()\n",
    "Periodogram_Analysis = PowerSpectrumAnalysis()\n",
    "Spec_Analysis = SpectrogramAnalysis()"
   ]
  },
  {
   "cell_type": "markdown",
   "id": "5c647e86-bed0-43b3-b47b-07ac87cf5b83",
   "metadata": {},
   "source": [
    "## Set Up Pipelines"
   ]
  },
  {
   "cell_type": "markdown",
   "id": "23136cac-8478-4bd1-a126-3dba908672c6",
   "metadata": {},
   "source": [
    "We create pipelines for each modules and link them to the dataset. Power density data computed using Welch's method will be used for plotting Periodogram."
   ]
  },
  {
   "cell_type": "code",
   "execution_count": null,
   "id": "5905fe37-a9c3-4d8a-82b8-1ddd16d8ffe1",
   "metadata": {},
   "outputs": [],
   "source": [
    "data >> spectrum_welch >> Periodogram_Analysis\n",
    "data >> spectrum_per\n",
    "data >> Spec_Analysis\n",
    "\n",
    "pipeline1 = Pipeline(spectrum_welch)\n",
    "pipeline2 = Pipeline(spectrum_per)\n",
    "pipeline3 = Pipeline(Spec_Analysis)\n",
    "\n",
    "pipeline1.run(working_directory=working_directory, verbose=True)\n",
    "pipeline2.run(working_directory=working_directory, verbose=True)\n",
    "pipeline3.run(working_directory=working_directory, verbose=True)"
   ]
  }
 ],
 "metadata": {
  "kernelspec": {
   "display_name": "Python 3 (ipykernel)",
   "language": "python",
   "name": "python3"
  },
  "language_info": {
   "codemirror_mode": {
    "name": "ipython",
    "version": 3
   },
   "file_extension": ".py",
   "mimetype": "text/x-python",
   "name": "python",
   "nbconvert_exporter": "python",
   "pygments_lexer": "ipython3",
   "version": "3.13.0"
  }
 },
 "nbformat": 4,
 "nbformat_minor": 5
}
